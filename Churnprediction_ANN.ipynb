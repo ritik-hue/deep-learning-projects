{
  "nbformat": 4,
  "nbformat_minor": 0,
  "metadata": {
    "colab": {
      "provenance": [],
      "mount_file_id": "1dhfGxD8N5jrLSKduNsDb4e4pWVV_vndm",
      "authorship_tag": "ABX9TyOTE0qAqFzo4MrnKJJK+CH0",
      "include_colab_link": true
    },
    "kernelspec": {
      "name": "python3",
      "display_name": "Python 3"
    },
    "language_info": {
      "name": "python"
    }
  },
  "cells": [
    {
      "cell_type": "markdown",
      "metadata": {
        "id": "view-in-github",
        "colab_type": "text"
      },
      "source": [
        "<a href=\"https://colab.research.google.com/github/ritik-hue/deep-learning-projects/blob/main/Churnprediction_ANN.ipynb\" target=\"_parent\"><img src=\"https://colab.research.google.com/assets/colab-badge.svg\" alt=\"Open In Colab\"/></a>"
      ]
    },
    {
      "cell_type": "code",
      "execution_count": 1,
      "metadata": {
        "id": "Gk7Sl5-KqHB_"
      },
      "outputs": [],
      "source": [
        "import pandas as pd\n",
        "import numpy as np\n",
        "df=pd.read_csv('/content/drive/MyDrive/Churn_Modelling.csv')"
      ]
    },
    {
      "cell_type": "code",
      "source": [
        "df.head(5)"
      ],
      "metadata": {
        "colab": {
          "base_uri": "https://localhost:8080/",
          "height": 226
        },
        "id": "OvqQ3qj5qvcC",
        "outputId": "03accc7a-499f-440b-a4b4-d2f97b0ce5c9"
      },
      "execution_count": 2,
      "outputs": [
        {
          "output_type": "execute_result",
          "data": {
            "text/plain": [
              "   RowNumber  CustomerId   Surname  CreditScore Geography  Gender  Age  \\\n",
              "0          1    15634602  Hargrave          619    France  Female   42   \n",
              "1          2    15647311      Hill          608     Spain  Female   41   \n",
              "2          3    15619304      Onio          502    France  Female   42   \n",
              "3          4    15701354      Boni          699    France  Female   39   \n",
              "4          5    15737888  Mitchell          850     Spain  Female   43   \n",
              "\n",
              "   Tenure    Balance  NumOfProducts  HasCrCard  IsActiveMember  \\\n",
              "0       2       0.00              1          1               1   \n",
              "1       1   83807.86              1          0               1   \n",
              "2       8  159660.80              3          1               0   \n",
              "3       1       0.00              2          0               0   \n",
              "4       2  125510.82              1          1               1   \n",
              "\n",
              "   EstimatedSalary  Exited  \n",
              "0        101348.88       1  \n",
              "1        112542.58       0  \n",
              "2        113931.57       1  \n",
              "3         93826.63       0  \n",
              "4         79084.10       0  "
            ],
            "text/html": [
              "\n",
              "  <div id=\"df-66abbdc2-a24f-451c-a81b-017b54d3cfad\" class=\"colab-df-container\">\n",
              "    <div>\n",
              "<style scoped>\n",
              "    .dataframe tbody tr th:only-of-type {\n",
              "        vertical-align: middle;\n",
              "    }\n",
              "\n",
              "    .dataframe tbody tr th {\n",
              "        vertical-align: top;\n",
              "    }\n",
              "\n",
              "    .dataframe thead th {\n",
              "        text-align: right;\n",
              "    }\n",
              "</style>\n",
              "<table border=\"1\" class=\"dataframe\">\n",
              "  <thead>\n",
              "    <tr style=\"text-align: right;\">\n",
              "      <th></th>\n",
              "      <th>RowNumber</th>\n",
              "      <th>CustomerId</th>\n",
              "      <th>Surname</th>\n",
              "      <th>CreditScore</th>\n",
              "      <th>Geography</th>\n",
              "      <th>Gender</th>\n",
              "      <th>Age</th>\n",
              "      <th>Tenure</th>\n",
              "      <th>Balance</th>\n",
              "      <th>NumOfProducts</th>\n",
              "      <th>HasCrCard</th>\n",
              "      <th>IsActiveMember</th>\n",
              "      <th>EstimatedSalary</th>\n",
              "      <th>Exited</th>\n",
              "    </tr>\n",
              "  </thead>\n",
              "  <tbody>\n",
              "    <tr>\n",
              "      <th>0</th>\n",
              "      <td>1</td>\n",
              "      <td>15634602</td>\n",
              "      <td>Hargrave</td>\n",
              "      <td>619</td>\n",
              "      <td>France</td>\n",
              "      <td>Female</td>\n",
              "      <td>42</td>\n",
              "      <td>2</td>\n",
              "      <td>0.00</td>\n",
              "      <td>1</td>\n",
              "      <td>1</td>\n",
              "      <td>1</td>\n",
              "      <td>101348.88</td>\n",
              "      <td>1</td>\n",
              "    </tr>\n",
              "    <tr>\n",
              "      <th>1</th>\n",
              "      <td>2</td>\n",
              "      <td>15647311</td>\n",
              "      <td>Hill</td>\n",
              "      <td>608</td>\n",
              "      <td>Spain</td>\n",
              "      <td>Female</td>\n",
              "      <td>41</td>\n",
              "      <td>1</td>\n",
              "      <td>83807.86</td>\n",
              "      <td>1</td>\n",
              "      <td>0</td>\n",
              "      <td>1</td>\n",
              "      <td>112542.58</td>\n",
              "      <td>0</td>\n",
              "    </tr>\n",
              "    <tr>\n",
              "      <th>2</th>\n",
              "      <td>3</td>\n",
              "      <td>15619304</td>\n",
              "      <td>Onio</td>\n",
              "      <td>502</td>\n",
              "      <td>France</td>\n",
              "      <td>Female</td>\n",
              "      <td>42</td>\n",
              "      <td>8</td>\n",
              "      <td>159660.80</td>\n",
              "      <td>3</td>\n",
              "      <td>1</td>\n",
              "      <td>0</td>\n",
              "      <td>113931.57</td>\n",
              "      <td>1</td>\n",
              "    </tr>\n",
              "    <tr>\n",
              "      <th>3</th>\n",
              "      <td>4</td>\n",
              "      <td>15701354</td>\n",
              "      <td>Boni</td>\n",
              "      <td>699</td>\n",
              "      <td>France</td>\n",
              "      <td>Female</td>\n",
              "      <td>39</td>\n",
              "      <td>1</td>\n",
              "      <td>0.00</td>\n",
              "      <td>2</td>\n",
              "      <td>0</td>\n",
              "      <td>0</td>\n",
              "      <td>93826.63</td>\n",
              "      <td>0</td>\n",
              "    </tr>\n",
              "    <tr>\n",
              "      <th>4</th>\n",
              "      <td>5</td>\n",
              "      <td>15737888</td>\n",
              "      <td>Mitchell</td>\n",
              "      <td>850</td>\n",
              "      <td>Spain</td>\n",
              "      <td>Female</td>\n",
              "      <td>43</td>\n",
              "      <td>2</td>\n",
              "      <td>125510.82</td>\n",
              "      <td>1</td>\n",
              "      <td>1</td>\n",
              "      <td>1</td>\n",
              "      <td>79084.10</td>\n",
              "      <td>0</td>\n",
              "    </tr>\n",
              "  </tbody>\n",
              "</table>\n",
              "</div>\n",
              "    <div class=\"colab-df-buttons\">\n",
              "\n",
              "  <div class=\"colab-df-container\">\n",
              "    <button class=\"colab-df-convert\" onclick=\"convertToInteractive('df-66abbdc2-a24f-451c-a81b-017b54d3cfad')\"\n",
              "            title=\"Convert this dataframe to an interactive table.\"\n",
              "            style=\"display:none;\">\n",
              "\n",
              "  <svg xmlns=\"http://www.w3.org/2000/svg\" height=\"24px\" viewBox=\"0 -960 960 960\">\n",
              "    <path d=\"M120-120v-720h720v720H120Zm60-500h600v-160H180v160Zm220 220h160v-160H400v160Zm0 220h160v-160H400v160ZM180-400h160v-160H180v160Zm440 0h160v-160H620v160ZM180-180h160v-160H180v160Zm440 0h160v-160H620v160Z\"/>\n",
              "  </svg>\n",
              "    </button>\n",
              "\n",
              "  <style>\n",
              "    .colab-df-container {\n",
              "      display:flex;\n",
              "      gap: 12px;\n",
              "    }\n",
              "\n",
              "    .colab-df-convert {\n",
              "      background-color: #E8F0FE;\n",
              "      border: none;\n",
              "      border-radius: 50%;\n",
              "      cursor: pointer;\n",
              "      display: none;\n",
              "      fill: #1967D2;\n",
              "      height: 32px;\n",
              "      padding: 0 0 0 0;\n",
              "      width: 32px;\n",
              "    }\n",
              "\n",
              "    .colab-df-convert:hover {\n",
              "      background-color: #E2EBFA;\n",
              "      box-shadow: 0px 1px 2px rgba(60, 64, 67, 0.3), 0px 1px 3px 1px rgba(60, 64, 67, 0.15);\n",
              "      fill: #174EA6;\n",
              "    }\n",
              "\n",
              "    .colab-df-buttons div {\n",
              "      margin-bottom: 4px;\n",
              "    }\n",
              "\n",
              "    [theme=dark] .colab-df-convert {\n",
              "      background-color: #3B4455;\n",
              "      fill: #D2E3FC;\n",
              "    }\n",
              "\n",
              "    [theme=dark] .colab-df-convert:hover {\n",
              "      background-color: #434B5C;\n",
              "      box-shadow: 0px 1px 3px 1px rgba(0, 0, 0, 0.15);\n",
              "      filter: drop-shadow(0px 1px 2px rgba(0, 0, 0, 0.3));\n",
              "      fill: #FFFFFF;\n",
              "    }\n",
              "  </style>\n",
              "\n",
              "    <script>\n",
              "      const buttonEl =\n",
              "        document.querySelector('#df-66abbdc2-a24f-451c-a81b-017b54d3cfad button.colab-df-convert');\n",
              "      buttonEl.style.display =\n",
              "        google.colab.kernel.accessAllowed ? 'block' : 'none';\n",
              "\n",
              "      async function convertToInteractive(key) {\n",
              "        const element = document.querySelector('#df-66abbdc2-a24f-451c-a81b-017b54d3cfad');\n",
              "        const dataTable =\n",
              "          await google.colab.kernel.invokeFunction('convertToInteractive',\n",
              "                                                    [key], {});\n",
              "        if (!dataTable) return;\n",
              "\n",
              "        const docLinkHtml = 'Like what you see? Visit the ' +\n",
              "          '<a target=\"_blank\" href=https://colab.research.google.com/notebooks/data_table.ipynb>data table notebook</a>'\n",
              "          + ' to learn more about interactive tables.';\n",
              "        element.innerHTML = '';\n",
              "        dataTable['output_type'] = 'display_data';\n",
              "        await google.colab.output.renderOutput(dataTable, element);\n",
              "        const docLink = document.createElement('div');\n",
              "        docLink.innerHTML = docLinkHtml;\n",
              "        element.appendChild(docLink);\n",
              "      }\n",
              "    </script>\n",
              "  </div>\n",
              "\n",
              "\n",
              "<div id=\"df-d1e3cdbd-e8cc-437a-9699-d17fd45d8898\">\n",
              "  <button class=\"colab-df-quickchart\" onclick=\"quickchart('df-d1e3cdbd-e8cc-437a-9699-d17fd45d8898')\"\n",
              "            title=\"Suggest charts.\"\n",
              "            style=\"display:none;\">\n",
              "\n",
              "<svg xmlns=\"http://www.w3.org/2000/svg\" height=\"24px\"viewBox=\"0 0 24 24\"\n",
              "     width=\"24px\">\n",
              "    <g>\n",
              "        <path d=\"M19 3H5c-1.1 0-2 .9-2 2v14c0 1.1.9 2 2 2h14c1.1 0 2-.9 2-2V5c0-1.1-.9-2-2-2zM9 17H7v-7h2v7zm4 0h-2V7h2v10zm4 0h-2v-4h2v4z\"/>\n",
              "    </g>\n",
              "</svg>\n",
              "  </button>\n",
              "\n",
              "<style>\n",
              "  .colab-df-quickchart {\n",
              "    background-color: #E8F0FE;\n",
              "    border: none;\n",
              "    border-radius: 50%;\n",
              "    cursor: pointer;\n",
              "    display: none;\n",
              "    fill: #1967D2;\n",
              "    height: 32px;\n",
              "    padding: 0 0 0 0;\n",
              "    width: 32px;\n",
              "  }\n",
              "\n",
              "  .colab-df-quickchart:hover {\n",
              "    background-color: #E2EBFA;\n",
              "    box-shadow: 0px 1px 2px rgba(60, 64, 67, 0.3), 0px 1px 3px 1px rgba(60, 64, 67, 0.15);\n",
              "    fill: #174EA6;\n",
              "  }\n",
              "\n",
              "  [theme=dark] .colab-df-quickchart {\n",
              "    background-color: #3B4455;\n",
              "    fill: #D2E3FC;\n",
              "  }\n",
              "\n",
              "  [theme=dark] .colab-df-quickchart:hover {\n",
              "    background-color: #434B5C;\n",
              "    box-shadow: 0px 1px 3px 1px rgba(0, 0, 0, 0.15);\n",
              "    filter: drop-shadow(0px 1px 2px rgba(0, 0, 0, 0.3));\n",
              "    fill: #FFFFFF;\n",
              "  }\n",
              "</style>\n",
              "\n",
              "  <script>\n",
              "    async function quickchart(key) {\n",
              "      const charts = await google.colab.kernel.invokeFunction(\n",
              "          'suggestCharts', [key], {});\n",
              "    }\n",
              "    (() => {\n",
              "      let quickchartButtonEl =\n",
              "        document.querySelector('#df-d1e3cdbd-e8cc-437a-9699-d17fd45d8898 button');\n",
              "      quickchartButtonEl.style.display =\n",
              "        google.colab.kernel.accessAllowed ? 'block' : 'none';\n",
              "    })();\n",
              "  </script>\n",
              "</div>\n",
              "    </div>\n",
              "  </div>\n"
            ]
          },
          "metadata": {},
          "execution_count": 2
        }
      ]
    },
    {
      "cell_type": "code",
      "source": [
        "df.duplicated().sum()"
      ],
      "metadata": {
        "colab": {
          "base_uri": "https://localhost:8080/"
        },
        "id": "QBN6wWW9q5XH",
        "outputId": "47f0636f-297a-48f6-e3b0-44df84e93167"
      },
      "execution_count": 3,
      "outputs": [
        {
          "output_type": "execute_result",
          "data": {
            "text/plain": [
              "0"
            ]
          },
          "metadata": {},
          "execution_count": 3
        }
      ]
    },
    {
      "cell_type": "code",
      "source": [
        "df['Exited'].value_counts()"
      ],
      "metadata": {
        "colab": {
          "base_uri": "https://localhost:8080/"
        },
        "id": "1OW6H6QMrSQH",
        "outputId": "7c53beb9-5857-4407-9df7-e7aefbf71faa"
      },
      "execution_count": 4,
      "outputs": [
        {
          "output_type": "execute_result",
          "data": {
            "text/plain": [
              "0    7963\n",
              "1    2037\n",
              "Name: Exited, dtype: int64"
            ]
          },
          "metadata": {},
          "execution_count": 4
        }
      ]
    },
    {
      "cell_type": "code",
      "source": [
        "df['Geography'].value_counts()"
      ],
      "metadata": {
        "colab": {
          "base_uri": "https://localhost:8080/"
        },
        "id": "OP1vAg3ArZAJ",
        "outputId": "7fa143e3-ae68-4f49-9e13-a039a6e12d86"
      },
      "execution_count": 5,
      "outputs": [
        {
          "output_type": "execute_result",
          "data": {
            "text/plain": [
              "France     5014\n",
              "Germany    2509\n",
              "Spain      2477\n",
              "Name: Geography, dtype: int64"
            ]
          },
          "metadata": {},
          "execution_count": 5
        }
      ]
    },
    {
      "cell_type": "code",
      "source": [
        "df.drop(columns=['RowNumber','CustomerId','Surname'],inplace=True)"
      ],
      "metadata": {
        "id": "i8hj4EjurZB1"
      },
      "execution_count": 8,
      "outputs": []
    },
    {
      "cell_type": "code",
      "source": [
        "df = pd.get_dummies(df,columns=['Geography','Gender'],drop_first=True)\n"
      ],
      "metadata": {
        "id": "LKzY0dFXr9p9"
      },
      "execution_count": 17,
      "outputs": []
    },
    {
      "cell_type": "code",
      "source": [
        "X = df.drop(columns=['Exited'])\n",
        "y=df['Exited'].values\n",
        "from sklearn.model_selection import train_test_split\n",
        "X_train,X_test,y_train,y_test = train_test_split(X,y,test_size=0.2,random_state=0)\n"
      ],
      "metadata": {
        "id": "yWHHt3EJsdPu"
      },
      "execution_count": 18,
      "outputs": []
    },
    {
      "cell_type": "code",
      "source": [
        "from sklearn.preprocessing import StandardScaler\n",
        "scaler=StandardScaler()\n",
        "x_train1=scaler.fit_transform(X_train)\n",
        "x_test1=scaler.transform(X_test)"
      ],
      "metadata": {
        "id": "mv6NP2uss21y"
      },
      "execution_count": 19,
      "outputs": []
    },
    {
      "cell_type": "code",
      "source": [
        "import tensorflow\n",
        "from tensorflow import keras\n",
        "from tensorflow.keras import Sequential\n",
        "from tensorflow.keras.layers import Dense"
      ],
      "metadata": {
        "id": "e8Thrslmt7MT"
      },
      "execution_count": 23,
      "outputs": []
    },
    {
      "cell_type": "code",
      "source": [
        "model=Sequential()\n",
        "model.add(Dense(11,activation='sigmoid',input_dim=11))\n",
        "model.add(Dense(6,activation='relu',input_dim=11))\n",
        "model.add(Dense(1,activation='sigmoid'))\n"
      ],
      "metadata": {
        "id": "DQz-qSBJuda6"
      },
      "execution_count": 34,
      "outputs": []
    },
    {
      "cell_type": "code",
      "source": [
        "model.compile(optimizer='Adam',loss='binary_crossentropy',metrics=['accuracy'])\n"
      ],
      "metadata": {
        "id": "G5nUI-1mu38a"
      },
      "execution_count": 35,
      "outputs": []
    },
    {
      "cell_type": "code",
      "source": [
        "history=model.fit(x_train1,y_train,epochs=20,verbose=1,validation_split=0.2)"
      ],
      "metadata": {
        "colab": {
          "base_uri": "https://localhost:8080/"
        },
        "id": "0MSiWfEQtTEh",
        "outputId": "543a32e2-d78e-4e93-9d3f-aa11b737bb4c"
      },
      "execution_count": 45,
      "outputs": [
        {
          "output_type": "stream",
          "name": "stdout",
          "text": [
            "Epoch 1/20\n",
            "200/200 [==============================] - 1s 3ms/step - loss: 0.3387 - accuracy: 0.8619 - val_loss: 0.3489 - val_accuracy: 0.8631\n",
            "Epoch 2/20\n",
            "200/200 [==============================] - 0s 2ms/step - loss: 0.3382 - accuracy: 0.8612 - val_loss: 0.3490 - val_accuracy: 0.8637\n",
            "Epoch 3/20\n",
            "200/200 [==============================] - 0s 2ms/step - loss: 0.3376 - accuracy: 0.8625 - val_loss: 0.3491 - val_accuracy: 0.8619\n",
            "Epoch 4/20\n",
            "200/200 [==============================] - 0s 2ms/step - loss: 0.3368 - accuracy: 0.8625 - val_loss: 0.3498 - val_accuracy: 0.8581\n",
            "Epoch 5/20\n",
            "200/200 [==============================] - 0s 2ms/step - loss: 0.3368 - accuracy: 0.8620 - val_loss: 0.3512 - val_accuracy: 0.8569\n",
            "Epoch 6/20\n",
            "200/200 [==============================] - 0s 2ms/step - loss: 0.3371 - accuracy: 0.8625 - val_loss: 0.3497 - val_accuracy: 0.8606\n",
            "Epoch 7/20\n",
            "200/200 [==============================] - 0s 2ms/step - loss: 0.3362 - accuracy: 0.8636 - val_loss: 0.3499 - val_accuracy: 0.8619\n",
            "Epoch 8/20\n",
            "200/200 [==============================] - 0s 2ms/step - loss: 0.3359 - accuracy: 0.8622 - val_loss: 0.3500 - val_accuracy: 0.8612\n",
            "Epoch 9/20\n",
            "200/200 [==============================] - 0s 2ms/step - loss: 0.3358 - accuracy: 0.8627 - val_loss: 0.3497 - val_accuracy: 0.8619\n",
            "Epoch 10/20\n",
            "200/200 [==============================] - 0s 2ms/step - loss: 0.3351 - accuracy: 0.8620 - val_loss: 0.3497 - val_accuracy: 0.8606\n",
            "Epoch 11/20\n",
            "200/200 [==============================] - 0s 2ms/step - loss: 0.3351 - accuracy: 0.8614 - val_loss: 0.3493 - val_accuracy: 0.8606\n",
            "Epoch 12/20\n",
            "200/200 [==============================] - 0s 2ms/step - loss: 0.3346 - accuracy: 0.8630 - val_loss: 0.3494 - val_accuracy: 0.8606\n",
            "Epoch 13/20\n",
            "200/200 [==============================] - 1s 3ms/step - loss: 0.3343 - accuracy: 0.8627 - val_loss: 0.3495 - val_accuracy: 0.8600\n",
            "Epoch 14/20\n",
            "200/200 [==============================] - 0s 2ms/step - loss: 0.3345 - accuracy: 0.8625 - val_loss: 0.3499 - val_accuracy: 0.8587\n",
            "Epoch 15/20\n",
            "200/200 [==============================] - 0s 2ms/step - loss: 0.3342 - accuracy: 0.8630 - val_loss: 0.3501 - val_accuracy: 0.8600\n",
            "Epoch 16/20\n",
            "200/200 [==============================] - 0s 2ms/step - loss: 0.3336 - accuracy: 0.8630 - val_loss: 0.3496 - val_accuracy: 0.8600\n",
            "Epoch 17/20\n",
            "200/200 [==============================] - 0s 2ms/step - loss: 0.3337 - accuracy: 0.8630 - val_loss: 0.3498 - val_accuracy: 0.8587\n",
            "Epoch 18/20\n",
            "200/200 [==============================] - 0s 2ms/step - loss: 0.3332 - accuracy: 0.8630 - val_loss: 0.3498 - val_accuracy: 0.8569\n",
            "Epoch 19/20\n",
            "200/200 [==============================] - 0s 2ms/step - loss: 0.3331 - accuracy: 0.8625 - val_loss: 0.3498 - val_accuracy: 0.8600\n",
            "Epoch 20/20\n",
            "200/200 [==============================] - 0s 2ms/step - loss: 0.3331 - accuracy: 0.8634 - val_loss: 0.3497 - val_accuracy: 0.8587\n"
          ]
        }
      ]
    },
    {
      "cell_type": "code",
      "source": [
        "model.layers[0].get_weights()"
      ],
      "metadata": {
        "colab": {
          "base_uri": "https://localhost:8080/"
        },
        "id": "plXZilLAvSfV",
        "outputId": "f6f4c139-04ad-498c-8ddc-152ae0a29064"
      },
      "execution_count": 37,
      "outputs": [
        {
          "output_type": "execute_result",
          "data": {
            "text/plain": [
              "[array([[ 2.54874647e-01, -4.99089733e-02,  1.62072822e-01,\n",
              "         -1.01628855e-01,  4.19921875e-01, -9.44148842e-03,\n",
              "          2.36929625e-01,  3.70205522e-01,  1.11332081e-01,\n",
              "          1.83590442e-01,  3.58985290e-02],\n",
              "        [ 8.14380109e-01, -8.69251311e-01,  1.43127418e+00,\n",
              "         -7.20697284e-01,  2.22586602e-01, -1.28374204e-01,\n",
              "         -9.13178682e-01, -1.42855847e+00,  3.82381052e-01,\n",
              "          7.08647668e-02, -1.64668822e+00],\n",
              "        [-1.22440988e-02, -4.43856679e-02, -1.14103414e-01,\n",
              "          1.26504764e-01,  3.98164615e-02, -2.25519821e-01,\n",
              "         -1.95300773e-01, -1.20445006e-01,  9.71649513e-02,\n",
              "          2.17223942e-01,  3.28000039e-01],\n",
              "        [-2.21535675e-02, -3.21370989e-01, -4.03794467e-01,\n",
              "         -5.52610755e-01, -2.18819007e-02, -7.66503632e-01,\n",
              "         -1.21918947e-01, -1.72212780e-01,  4.01222408e-01,\n",
              "         -9.84426662e-02,  2.21801698e-01],\n",
              "        [ 4.42077547e-01,  1.02009320e+00,  2.77707189e-01,\n",
              "         -4.60744739e-01, -2.82517135e-01, -5.89254797e-01,\n",
              "         -1.61643520e-01, -4.33969438e-01,  2.97918940e+00,\n",
              "          5.00672638e-01, -4.41653639e-01],\n",
              "        [-1.08374283e-01,  5.96932247e-02, -1.38551921e-01,\n",
              "          3.27610642e-01,  3.61774325e-01, -1.78174481e-01,\n",
              "         -1.43910736e-01, -3.39330822e-01, -1.26916775e-02,\n",
              "          1.00373812e-01, -1.63374290e-01],\n",
              "        [ 3.43776047e-01, -9.51965675e-02,  1.31637022e-01,\n",
              "          4.01789904e-01,  1.75403729e-01,  4.09398228e-01,\n",
              "          1.74825132e-01,  1.23551279e-01,  3.98227841e-01,\n",
              "          1.77612484e+00,  1.06292441e-01],\n",
              "        [-9.22927707e-02, -9.36601833e-02, -2.07465999e-02,\n",
              "          3.59716654e-01,  8.70927796e-02, -4.87165421e-01,\n",
              "          3.15668344e-01,  4.68439490e-01, -5.51929437e-02,\n",
              "         -3.29123944e-01, -2.43511841e-01],\n",
              "        [-5.63827693e-01, -2.69996941e-01,  4.18278813e-01,\n",
              "         -6.19525798e-02, -3.37152220e-02, -5.60177386e-01,\n",
              "         -3.38242680e-01, -2.10103273e-01, -1.99208602e-01,\n",
              "         -7.36578465e-01, -2.95455366e-01],\n",
              "        [ 1.88288838e-02, -2.21139759e-01,  3.64205725e-02,\n",
              "         -3.85718763e-01,  2.61733472e-01,  1.56203076e-01,\n",
              "         -6.44150615e-01, -7.19529510e-01,  2.63043910e-01,\n",
              "         -2.60524750e-02, -6.60785586e-02],\n",
              "        [-4.44154963e-02,  2.25538220e-02,  4.19572555e-02,\n",
              "          2.04873711e-01,  8.15250933e-01,  1.28594428e-01,\n",
              "          6.63135648e-01,  1.02163823e-02,  1.39676922e-04,\n",
              "          5.68977892e-01,  9.87872705e-02]], dtype=float32),\n",
              " array([-0.19720516, -0.23660836,  0.07099091,  0.05146789, -0.08083129,\n",
              "         0.12510592, -0.31395957,  0.03999942,  0.8068488 ,  0.13396928,\n",
              "        -0.00670789], dtype=float32)]"
            ]
          },
          "metadata": {},
          "execution_count": 37
        }
      ]
    },
    {
      "cell_type": "code",
      "source": [
        "y_log=model.predict(x_test1)"
      ],
      "metadata": {
        "colab": {
          "base_uri": "https://localhost:8080/"
        },
        "id": "yfhtkqIxvcsH",
        "outputId": "e52ee476-af9c-490b-85c1-287714024881"
      },
      "execution_count": 38,
      "outputs": [
        {
          "output_type": "stream",
          "name": "stdout",
          "text": [
            "63/63 [==============================] - 0s 3ms/step\n"
          ]
        }
      ]
    },
    {
      "cell_type": "code",
      "source": [
        "y_pred=np.where(y_log>0.5,1,0)"
      ],
      "metadata": {
        "id": "Be_YcJahvi_c"
      },
      "execution_count": 39,
      "outputs": []
    },
    {
      "cell_type": "code",
      "source": [
        "from sklearn.metrics import accuracy_score\n",
        "accuracy_score(y_test,y_pred)"
      ],
      "metadata": {
        "colab": {
          "base_uri": "https://localhost:8080/"
        },
        "id": "ukW5eaJqv6lo",
        "outputId": "c2e5071a-a225-4cee-e666-f5857906b419"
      },
      "execution_count": 40,
      "outputs": [
        {
          "output_type": "execute_result",
          "data": {
            "text/plain": [
              "0.8525"
            ]
          },
          "metadata": {},
          "execution_count": 40
        }
      ]
    },
    {
      "cell_type": "code",
      "source": [
        "import matplotlib.pyplot as plt\n",
        "plt.plot(history.history['loss'])\n",
        "plt.plot(history.history['val_loss'])"
      ],
      "metadata": {
        "colab": {
          "base_uri": "https://localhost:8080/",
          "height": 447
        },
        "id": "Q2Za8JPJwlwn",
        "outputId": "3a5d3055-6bbf-4e16-9f3b-440fef44f4eb"
      },
      "execution_count": 46,
      "outputs": [
        {
          "output_type": "execute_result",
          "data": {
            "text/plain": [
              "[<matplotlib.lines.Line2D at 0x7aca06ee9ff0>]"
            ]
          },
          "metadata": {},
          "execution_count": 46
        },
        {
          "output_type": "display_data",
          "data": {
            "text/plain": [
              "<Figure size 640x480 with 1 Axes>"
            ],
            "image/png": "[encoded data removed]"
          },
          "metadata": {}
        }
      ]
    }
  ]
}